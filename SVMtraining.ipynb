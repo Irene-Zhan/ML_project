{
 "cells": [
  {
   "cell_type": "code",
   "execution_count": 127,
   "metadata": {},
   "outputs": [],
   "source": [
    "import numpy as np\n",
    "import pandas as pd\n",
    "cars_df = pd.read_csv('car.data',skip_blank_lines=True)"
   ]
  },
  {
   "cell_type": "code",
   "execution_count": 128,
   "metadata": {
    "scrolled": true
   },
   "outputs": [
    {
     "data": {
      "text/html": [
       "<div>\n",
       "<style scoped>\n",
       "    .dataframe tbody tr th:only-of-type {\n",
       "        vertical-align: middle;\n",
       "    }\n",
       "\n",
       "    .dataframe tbody tr th {\n",
       "        vertical-align: top;\n",
       "    }\n",
       "\n",
       "    .dataframe thead th {\n",
       "        text-align: right;\n",
       "    }\n",
       "</style>\n",
       "<table border=\"1\" class=\"dataframe\">\n",
       "  <thead>\n",
       "    <tr style=\"text-align: right;\">\n",
       "      <th></th>\n",
       "      <th>buying</th>\n",
       "      <th>maint</th>\n",
       "      <th>doors</th>\n",
       "      <th>persons</th>\n",
       "      <th>lug_boot</th>\n",
       "      <th>safety</th>\n",
       "      <th>class</th>\n",
       "    </tr>\n",
       "  </thead>\n",
       "  <tbody>\n",
       "    <tr>\n",
       "      <th>0</th>\n",
       "      <td>vhigh</td>\n",
       "      <td>vhigh</td>\n",
       "      <td>2</td>\n",
       "      <td>2</td>\n",
       "      <td>small</td>\n",
       "      <td>low</td>\n",
       "      <td>unacc</td>\n",
       "    </tr>\n",
       "    <tr>\n",
       "      <th>1</th>\n",
       "      <td>vhigh</td>\n",
       "      <td>vhigh</td>\n",
       "      <td>2</td>\n",
       "      <td>2</td>\n",
       "      <td>small</td>\n",
       "      <td>med</td>\n",
       "      <td>unacc</td>\n",
       "    </tr>\n",
       "    <tr>\n",
       "      <th>2</th>\n",
       "      <td>vhigh</td>\n",
       "      <td>vhigh</td>\n",
       "      <td>2</td>\n",
       "      <td>2</td>\n",
       "      <td>small</td>\n",
       "      <td>high</td>\n",
       "      <td>unacc</td>\n",
       "    </tr>\n",
       "    <tr>\n",
       "      <th>3</th>\n",
       "      <td>vhigh</td>\n",
       "      <td>vhigh</td>\n",
       "      <td>2</td>\n",
       "      <td>2</td>\n",
       "      <td>med</td>\n",
       "      <td>low</td>\n",
       "      <td>unacc</td>\n",
       "    </tr>\n",
       "    <tr>\n",
       "      <th>4</th>\n",
       "      <td>vhigh</td>\n",
       "      <td>vhigh</td>\n",
       "      <td>2</td>\n",
       "      <td>2</td>\n",
       "      <td>med</td>\n",
       "      <td>med</td>\n",
       "      <td>unacc</td>\n",
       "    </tr>\n",
       "  </tbody>\n",
       "</table>\n",
       "</div>"
      ],
      "text/plain": [
       "  buying  maint doors persons lug_boot safety  class\n",
       "0  vhigh  vhigh     2       2    small    low  unacc\n",
       "1  vhigh  vhigh     2       2    small    med  unacc\n",
       "2  vhigh  vhigh     2       2    small   high  unacc\n",
       "3  vhigh  vhigh     2       2      med    low  unacc\n",
       "4  vhigh  vhigh     2       2      med    med  unacc"
      ]
     },
     "execution_count": 128,
     "metadata": {},
     "output_type": "execute_result"
    }
   ],
   "source": [
    "cars_df.head()"
   ]
  },
  {
   "cell_type": "code",
   "execution_count": 129,
   "metadata": {},
   "outputs": [
    {
     "name": "stdout",
     "output_type": "stream",
     "text": [
      "0    4\n",
      "1    4\n",
      "2    4\n",
      "3    4\n",
      "4    4\n",
      "Name: buying, dtype: object\n"
     ]
    }
   ],
   "source": [
    "for i in range(len(cars_df['buying'])):\n",
    "    if cars_df['buying'][i] == 'vhigh':\n",
    "        cars_df['buying'][i] = 4\n",
    "    elif cars_df['buying'][i] == 'high':\n",
    "        cars_df['buying'][i] = 3\n",
    "    elif cars_df['buying'][i] == 'med' :\n",
    "        cars_df['buying'][i] = 2\n",
    "    elif cars_df['buying'][i] == 'low':\n",
    "        cars_df['buying'][i] = 1\n",
    "print(cars_df['buying'].head())\n",
    "# print(len(cars_df['buying']))"
   ]
  },
  {
   "cell_type": "code",
   "execution_count": 130,
   "metadata": {},
   "outputs": [
    {
     "name": "stdout",
     "output_type": "stream",
     "text": [
      "0    4\n",
      "1    4\n",
      "2    4\n",
      "3    4\n",
      "4    4\n",
      "Name: maint, dtype: object\n"
     ]
    }
   ],
   "source": [
    "for i in range(len(cars_df['doors'])):\n",
    "    if cars_df['maint'][i] == 'vhigh':\n",
    "        cars_df['maint'][i] = 4\n",
    "    elif cars_df['maint'][i] == 'high':\n",
    "        cars_df['maint'][i] = 3\n",
    "    elif cars_df['maint'][i] == 'med' :\n",
    "        cars_df['maint'][i] = 2\n",
    "    elif cars_df['maint'][i] == 'low':\n",
    "        cars_df['maint'][i] = 1\n",
    "print(cars_df['maint'].head())"
   ]
  },
  {
   "cell_type": "code",
   "execution_count": 131,
   "metadata": {},
   "outputs": [
    {
     "name": "stdout",
     "output_type": "stream",
     "text": [
      "0    1\n",
      "1    1\n",
      "2    1\n",
      "3    1\n",
      "4    1\n",
      "Name: doors, dtype: object\n"
     ]
    }
   ],
   "source": [
    "for i in range(len(cars_df['doors'])):\n",
    "    if cars_df['doors'][i] == '5more':\n",
    "        cars_df['doors'][i] = 4\n",
    "    elif cars_df['doors'][i] == '4':\n",
    "        cars_df['doors'][i] = 3\n",
    "    elif cars_df['doors'][i] == '3' :\n",
    "        cars_df['doors'][i] = 2\n",
    "    elif cars_df['doors'][i] == '2':\n",
    "        cars_df['doors'][i] = 1\n",
    "print(cars_df['doors'].head())"
   ]
  },
  {
   "cell_type": "code",
   "execution_count": 132,
   "metadata": {},
   "outputs": [
    {
     "name": "stdout",
     "output_type": "stream",
     "text": [
      "0    1\n",
      "1    1\n",
      "2    1\n",
      "3    1\n",
      "4    1\n",
      "Name: persons, dtype: object\n"
     ]
    }
   ],
   "source": [
    "for i in range(len(cars_df['persons'])):\n",
    "    if cars_df['persons'][i] == 'more':\n",
    "        cars_df['persons'][i] = 3\n",
    "    elif cars_df['persons'][i] == '4':\n",
    "        cars_df['persons'][i] = 2\n",
    "    elif cars_df['persons'][i] == '2' :\n",
    "        cars_df['persons'][i] = 1\n",
    "print(cars_df['persons'].head())"
   ]
  },
  {
   "cell_type": "code",
   "execution_count": 133,
   "metadata": {},
   "outputs": [
    {
     "name": "stdout",
     "output_type": "stream",
     "text": [
      "0    1\n",
      "1    1\n",
      "2    1\n",
      "3    2\n",
      "4    2\n",
      "Name: lug_boot, dtype: object\n"
     ]
    }
   ],
   "source": [
    "for i in range(len(cars_df['lug_boot'])):\n",
    "    if cars_df['lug_boot'][i] == 'big':\n",
    "        cars_df['lug_boot'][i] = 3\n",
    "    elif cars_df['lug_boot'][i] == 'med':\n",
    "        cars_df['lug_boot'][i] = 2\n",
    "    elif cars_df['lug_boot'][i] == 'small' :\n",
    "        cars_df['lug_boot'][i] = 1\n",
    "print(cars_df['lug_boot'].head())"
   ]
  },
  {
   "cell_type": "code",
   "execution_count": 134,
   "metadata": {},
   "outputs": [
    {
     "name": "stdout",
     "output_type": "stream",
     "text": [
      "0    1\n",
      "1    2\n",
      "2    3\n",
      "3    1\n",
      "4    2\n",
      "Name: safety, dtype: object\n"
     ]
    }
   ],
   "source": [
    "for i in range(len(cars_df['safety'])):\n",
    "    if cars_df['safety'][i] == 'high':\n",
    "        cars_df['safety'][i] = 3\n",
    "    elif cars_df['safety'][i] == 'med':\n",
    "        cars_df['safety'][i] = 2\n",
    "    elif cars_df['safety'][i] == 'low' :\n",
    "        cars_df['safety'][i] = 1\n",
    "print(cars_df['safety'].head())"
   ]
  },
  {
   "cell_type": "code",
   "execution_count": 135,
   "metadata": {},
   "outputs": [
    {
     "name": "stdout",
     "output_type": "stream",
     "text": [
      "0    1\n",
      "1    1\n",
      "2    1\n",
      "3    1\n",
      "4    1\n",
      "Name: class, dtype: object\n"
     ]
    }
   ],
   "source": [
    "for i in range(len(cars_df['class'])):\n",
    "    if cars_df['class'][i] == 'vgood':\n",
    "        cars_df['class'][i] = 4\n",
    "    elif cars_df['class'][i] == 'good':\n",
    "        cars_df['class'][i] = 3\n",
    "    elif cars_df['class'][i] == 'acc' :\n",
    "        cars_df['class'][i] = 2\n",
    "    elif cars_df['class'][i] == 'unacc':\n",
    "        cars_df['class'][i] = 1\n",
    "print(cars_df['class'].head())"
   ]
  },
  {
   "cell_type": "code",
   "execution_count": 136,
   "metadata": {},
   "outputs": [],
   "source": [
    "from sklearn.utils import shuffle\n",
    "cars_df = shuffle(cars_df)\n",
    "cars_train = cars_df[:1200]\n",
    "cars_test = cars_df[1200:]"
   ]
  },
  {
   "cell_type": "code",
   "execution_count": 137,
   "metadata": {},
   "outputs": [
    {
     "name": "stdout",
     "output_type": "stream",
     "text": [
      "     buying maint doors persons lug_boot safety class\n",
      "745       3     2     4       2        3      2     2\n",
      "1089      2     2     1       2        1      1     1\n",
      "1703      1     1     4       1        1      3     1\n",
      "1626      1     1     1       1        3      1     1\n",
      "1083      2     2     1       1        2      1     1\n"
     ]
    }
   ],
   "source": [
    "print(cars_train.head())"
   ]
  },
  {
   "cell_type": "code",
   "execution_count": 138,
   "metadata": {},
   "outputs": [],
   "source": [
    "X=cars_train[['buying','maint','doors','persons','lug_boot','safety']].astype('int')\n",
    "y=cars_train['class'].astype('int')\n"
   ]
  },
  {
   "cell_type": "code",
   "execution_count": 139,
   "metadata": {},
   "outputs": [
    {
     "name": "stdout",
     "output_type": "stream",
     "text": [
      "Index(['buying', 'maint', 'doors', 'persons', 'lug_boot', 'safety'], dtype='object')\n"
     ]
    },
    {
     "name": "stderr",
     "output_type": "stream",
     "text": [
      "/Users/sunqingyu/anaconda3/lib/python3.7/site-packages/sklearn/svm/base.py:241: ConvergenceWarning: Solver terminated early (max_iter=100).  Consider pre-processing your data with StandardScaler or MinMaxScaler.\n",
      "  % self.max_iter, ConvergenceWarning)\n"
     ]
    },
    {
     "data": {
      "text/plain": [
       "SVC(C=1, cache_size=200, class_weight='balanced', coef0=0.0,\n",
       "    decision_function_shape='ovo', degree=3, gamma='auto', kernel='poly',\n",
       "    max_iter=100, probability=False, random_state=None, shrinking=True,\n",
       "    tol=0.001, verbose=False)"
      ]
     },
     "execution_count": 139,
     "metadata": {},
     "output_type": "execute_result"
    }
   ],
   "source": [
    "from sklearn.svm import SVC\n",
    "print(X.columns)\n",
    "# class_weight={'buying':0.3,'maint':0.1,'doors':0.1,'persons':0.1,'lug_boot':0.1,'safety':0.3}\n",
    "clf = SVC(C=1,class_weight='balanced', decision_function_shape='ovo', kernel='poly', degree=3,gamma='auto',max_iter=100)\n",
    "clf.fit(X, y)"
   ]
  },
  {
   "cell_type": "code",
   "execution_count": 140,
   "metadata": {},
   "outputs": [
    {
     "name": "stdout",
     "output_type": "stream",
     "text": [
      "[1]\n"
     ]
    }
   ],
   "source": [
    "print(clf.predict([[4,4,4,3,3,3]]))"
   ]
  },
  {
   "cell_type": "code",
   "execution_count": 141,
   "metadata": {},
   "outputs": [],
   "source": [
    "X_test=cars_test[['buying','maint','doors','persons','lug_boot','safety']].astype('int')\n",
    "result=clf.predict(X_test)"
   ]
  },
  {
   "cell_type": "code",
   "execution_count": 142,
   "metadata": {},
   "outputs": [
    {
     "name": "stdout",
     "output_type": "stream",
     "text": [
      "68.93939393939394\n",
      "              precision    recall  f1-score   support\n",
      "\n",
      "           1       0.67      0.89      0.76       280\n",
      "           2       0.69      0.38      0.49       201\n",
      "           3       0.94      0.63      0.76        27\n",
      "           4       0.83      1.00      0.91        20\n",
      "\n",
      "    accuracy                           0.69       528\n",
      "   macro avg       0.78      0.73      0.73       528\n",
      "weighted avg       0.70      0.69      0.67       528\n",
      "\n"
     ]
    }
   ],
   "source": [
    "from sklearn.metrics import classification_report\n",
    "y_test=cars_test['class'].astype('int')\n",
    "print(100.*np.mean(result==y_test))\n",
    "print(classification_report(result, y_test))"
   ]
  },
  {
   "cell_type": "code",
   "execution_count": null,
   "metadata": {},
   "outputs": [],
   "source": []
  }
 ],
 "metadata": {
  "kernelspec": {
   "display_name": "Python 3",
   "language": "python",
   "name": "python3"
  },
  "language_info": {
   "codemirror_mode": {
    "name": "ipython",
    "version": 3
   },
   "file_extension": ".py",
   "mimetype": "text/x-python",
   "name": "python",
   "nbconvert_exporter": "python",
   "pygments_lexer": "ipython3",
   "version": "3.7.3"
  }
 },
 "nbformat": 4,
 "nbformat_minor": 2
}
