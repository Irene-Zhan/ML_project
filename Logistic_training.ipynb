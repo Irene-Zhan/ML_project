{
 "cells": [
  {
   "cell_type": "code",
   "execution_count": 44,
   "metadata": {},
   "outputs": [],
   "source": [
    "import numpy as np\n",
    "import pandas as pd\n",
    "cars_df = pd.read_csv('car.data',skip_blank_lines=True)"
   ]
  },
  {
   "cell_type": "code",
   "execution_count": 45,
   "metadata": {},
   "outputs": [
    {
     "data": {
      "text/html": [
       "<div>\n",
       "<style scoped>\n",
       "    .dataframe tbody tr th:only-of-type {\n",
       "        vertical-align: middle;\n",
       "    }\n",
       "\n",
       "    .dataframe tbody tr th {\n",
       "        vertical-align: top;\n",
       "    }\n",
       "\n",
       "    .dataframe thead th {\n",
       "        text-align: right;\n",
       "    }\n",
       "</style>\n",
       "<table border=\"1\" class=\"dataframe\">\n",
       "  <thead>\n",
       "    <tr style=\"text-align: right;\">\n",
       "      <th></th>\n",
       "      <th>buying</th>\n",
       "      <th>maint</th>\n",
       "      <th>doors</th>\n",
       "      <th>persons</th>\n",
       "      <th>lug_boot</th>\n",
       "      <th>safety</th>\n",
       "      <th>class</th>\n",
       "    </tr>\n",
       "  </thead>\n",
       "  <tbody>\n",
       "    <tr>\n",
       "      <th>0</th>\n",
       "      <td>vhigh</td>\n",
       "      <td>vhigh</td>\n",
       "      <td>2</td>\n",
       "      <td>2</td>\n",
       "      <td>small</td>\n",
       "      <td>low</td>\n",
       "      <td>unacc</td>\n",
       "    </tr>\n",
       "    <tr>\n",
       "      <th>1</th>\n",
       "      <td>vhigh</td>\n",
       "      <td>vhigh</td>\n",
       "      <td>2</td>\n",
       "      <td>2</td>\n",
       "      <td>small</td>\n",
       "      <td>med</td>\n",
       "      <td>unacc</td>\n",
       "    </tr>\n",
       "    <tr>\n",
       "      <th>2</th>\n",
       "      <td>vhigh</td>\n",
       "      <td>vhigh</td>\n",
       "      <td>2</td>\n",
       "      <td>2</td>\n",
       "      <td>small</td>\n",
       "      <td>high</td>\n",
       "      <td>unacc</td>\n",
       "    </tr>\n",
       "    <tr>\n",
       "      <th>3</th>\n",
       "      <td>vhigh</td>\n",
       "      <td>vhigh</td>\n",
       "      <td>2</td>\n",
       "      <td>2</td>\n",
       "      <td>med</td>\n",
       "      <td>low</td>\n",
       "      <td>unacc</td>\n",
       "    </tr>\n",
       "    <tr>\n",
       "      <th>4</th>\n",
       "      <td>vhigh</td>\n",
       "      <td>vhigh</td>\n",
       "      <td>2</td>\n",
       "      <td>2</td>\n",
       "      <td>med</td>\n",
       "      <td>med</td>\n",
       "      <td>unacc</td>\n",
       "    </tr>\n",
       "  </tbody>\n",
       "</table>\n",
       "</div>"
      ],
      "text/plain": [
       "  buying  maint doors persons lug_boot safety  class\n",
       "0  vhigh  vhigh     2       2    small    low  unacc\n",
       "1  vhigh  vhigh     2       2    small    med  unacc\n",
       "2  vhigh  vhigh     2       2    small   high  unacc\n",
       "3  vhigh  vhigh     2       2      med    low  unacc\n",
       "4  vhigh  vhigh     2       2      med    med  unacc"
      ]
     },
     "execution_count": 45,
     "metadata": {},
     "output_type": "execute_result"
    }
   ],
   "source": [
    "cars_df.head()"
   ]
  },
  {
   "cell_type": "code",
   "execution_count": 46,
   "metadata": {},
   "outputs": [
    {
     "name": "stdout",
     "output_type": "stream",
     "text": [
      "0    4\n",
      "1    4\n",
      "2    4\n",
      "3    4\n",
      "4    4\n",
      "Name: buying, dtype: object\n"
     ]
    }
   ],
   "source": [
    "for i in range(len(cars_df['buying'])):\n",
    "    if cars_df['buying'][i] == 'vhigh':\n",
    "        cars_df['buying'][i] = 4\n",
    "    elif cars_df['buying'][i] == 'high':\n",
    "        cars_df['buying'][i] = 3\n",
    "    elif cars_df['buying'][i] == 'med' :\n",
    "        cars_df['buying'][i] = 2\n",
    "    elif cars_df['buying'][i] == 'low':\n",
    "        cars_df['buying'][i] = 1\n",
    "print(cars_df['buying'].head())\n",
    "# print(len(cars_df['buying']))"
   ]
  },
  {
   "cell_type": "code",
   "execution_count": 47,
   "metadata": {},
   "outputs": [
    {
     "name": "stdout",
     "output_type": "stream",
     "text": [
      "0    4\n",
      "1    4\n",
      "2    4\n",
      "3    4\n",
      "4    4\n",
      "Name: maint, dtype: object\n"
     ]
    }
   ],
   "source": [
    "for i in range(len(cars_df['doors'])):\n",
    "    if cars_df['maint'][i] == 'vhigh':\n",
    "        cars_df['maint'][i] = 4\n",
    "    elif cars_df['maint'][i] == 'high':\n",
    "        cars_df['maint'][i] = 3\n",
    "    elif cars_df['maint'][i] == 'med' :\n",
    "        cars_df['maint'][i] = 2\n",
    "    elif cars_df['maint'][i] == 'low':\n",
    "        cars_df['maint'][i] = 1\n",
    "print(cars_df['maint'].head())"
   ]
  },
  {
   "cell_type": "code",
   "execution_count": 48,
   "metadata": {},
   "outputs": [
    {
     "name": "stdout",
     "output_type": "stream",
     "text": [
      "0    1\n",
      "1    1\n",
      "2    1\n",
      "3    1\n",
      "4    1\n",
      "Name: doors, dtype: object\n"
     ]
    }
   ],
   "source": [
    "for i in range(len(cars_df['doors'])):\n",
    "    if cars_df['doors'][i] == '5more':\n",
    "        cars_df['doors'][i] = 4\n",
    "    elif cars_df['doors'][i] == '4':\n",
    "        cars_df['doors'][i] = 3\n",
    "    elif cars_df['doors'][i] == '3' :\n",
    "        cars_df['doors'][i] = 2\n",
    "    elif cars_df['doors'][i] == '2':\n",
    "        cars_df['doors'][i] = 1\n",
    "print(cars_df['doors'].head())"
   ]
  },
  {
   "cell_type": "code",
   "execution_count": 49,
   "metadata": {},
   "outputs": [
    {
     "name": "stdout",
     "output_type": "stream",
     "text": [
      "0    1\n",
      "1    1\n",
      "2    1\n",
      "3    1\n",
      "4    1\n",
      "Name: persons, dtype: object\n"
     ]
    }
   ],
   "source": [
    "for i in range(len(cars_df['persons'])):\n",
    "    if cars_df['persons'][i] == 'more':\n",
    "        cars_df['persons'][i] = 3\n",
    "    elif cars_df['persons'][i] == '4':\n",
    "        cars_df['persons'][i] = 2\n",
    "    elif cars_df['persons'][i] == '2' :\n",
    "        cars_df['persons'][i] = 1\n",
    "print(cars_df['persons'].head())"
   ]
  },
  {
   "cell_type": "code",
   "execution_count": 50,
   "metadata": {},
   "outputs": [
    {
     "name": "stdout",
     "output_type": "stream",
     "text": [
      "0    1\n",
      "1    1\n",
      "2    1\n",
      "3    2\n",
      "4    2\n",
      "Name: lug_boot, dtype: object\n"
     ]
    }
   ],
   "source": [
    "for i in range(len(cars_df['lug_boot'])):\n",
    "    if cars_df['lug_boot'][i] == 'big':\n",
    "        cars_df['lug_boot'][i] = 3\n",
    "    elif cars_df['lug_boot'][i] == 'med':\n",
    "        cars_df['lug_boot'][i] = 2\n",
    "    elif cars_df['lug_boot'][i] == 'small' :\n",
    "        cars_df['lug_boot'][i] = 1\n",
    "print(cars_df['lug_boot'].head())"
   ]
  },
  {
   "cell_type": "code",
   "execution_count": 51,
   "metadata": {},
   "outputs": [
    {
     "name": "stdout",
     "output_type": "stream",
     "text": [
      "0    1\n",
      "1    2\n",
      "2    3\n",
      "3    1\n",
      "4    2\n",
      "Name: safety, dtype: object\n"
     ]
    }
   ],
   "source": [
    "for i in range(len(cars_df['safety'])):\n",
    "    if cars_df['safety'][i] == 'high':\n",
    "        cars_df['safety'][i] = 3\n",
    "    elif cars_df['safety'][i] == 'med':\n",
    "        cars_df['safety'][i] = 2\n",
    "    elif cars_df['safety'][i] == 'low' :\n",
    "        cars_df['safety'][i] = 1\n",
    "print(cars_df['safety'].head())"
   ]
  },
  {
   "cell_type": "code",
   "execution_count": 52,
   "metadata": {},
   "outputs": [
    {
     "name": "stdout",
     "output_type": "stream",
     "text": [
      "0    1\n",
      "1    1\n",
      "2    1\n",
      "3    1\n",
      "4    1\n",
      "Name: class, dtype: object\n"
     ]
    }
   ],
   "source": [
    "for i in range(len(cars_df['class'])):\n",
    "    if cars_df['class'][i] == 'vgood':\n",
    "        cars_df['class'][i] = 4\n",
    "    elif cars_df['class'][i] == 'good':\n",
    "        cars_df['class'][i] = 3\n",
    "    elif cars_df['class'][i] == 'acc' :\n",
    "        cars_df['class'][i] = 2\n",
    "    elif cars_df['class'][i] == 'unacc':\n",
    "        cars_df['class'][i] = 1\n",
    "print(cars_df['class'].head())"
   ]
  },
  {
   "cell_type": "code",
   "execution_count": 54,
   "metadata": {},
   "outputs": [
    {
     "name": "stdout",
     "output_type": "stream",
     "text": [
      "     buying maint doors persons lug_boot safety class\n",
      "643       3     3     4       3        2      2     2\n",
      "159       4     3     2       3        3      1     1\n",
      "1518      1     2     1       1        3      1     1\n",
      "455       3     4     1       3        2      3     1\n",
      "323       4     2     4       3        3      3     2\n"
     ]
    }
   ],
   "source": [
    "# cars_df=np.asarray(cars_df)\n",
    "# np.random.shuffle(cars_df)\n",
    "# np.random.shuffle(cars1)\n",
    "from sklearn.utils import shuffle\n",
    "cars_df = shuffle(cars_df)\n",
    "print(cars_df.head())\n",
    "cars_train = cars_df[:1200]\n",
    "cars_test = cars_df[1200:]"
   ]
  },
  {
   "cell_type": "code",
   "execution_count": 56,
   "metadata": {},
   "outputs": [
    {
     "data": {
      "text/plain": [
       "pandas.core.frame.DataFrame"
      ]
     },
     "execution_count": 56,
     "metadata": {},
     "output_type": "execute_result"
    }
   ],
   "source": [
    "X=cars_train[['buying','maint','doors','persons','lug_boot','safety']].astype('int')\n",
    "y=cars_train['class'].astype('int')\n",
    "# y=cars_train[:,6]\n",
    "# X=np.delete(cars_train,6,1)\n",
    "\n",
    "type(X)\n"
   ]
  },
  {
   "cell_type": "code",
   "execution_count": 60,
   "metadata": {},
   "outputs": [
    {
     "name": "stderr",
     "output_type": "stream",
     "text": [
      "/Users/sunqingyu/anaconda3/lib/python3.7/site-packages/sklearn/linear_model/logistic.py:947: ConvergenceWarning: lbfgs failed to converge. Increase the number of iterations.\n",
      "  \"of iterations.\", ConvergenceWarning)\n"
     ]
    },
    {
     "data": {
      "text/plain": [
       "LogisticRegression(C=1.0, class_weight='balanced', dual=False,\n",
       "                   fit_intercept=True, intercept_scaling=1, l1_ratio=None,\n",
       "                   max_iter=100, multi_class='auto', n_jobs=None, penalty='l2',\n",
       "                   random_state=None, solver='lbfgs', tol=0.0001, verbose=0,\n",
       "                   warm_start=False)"
      ]
     },
     "execution_count": 60,
     "metadata": {},
     "output_type": "execute_result"
    }
   ],
   "source": [
    "from sklearn.datasets import make_classification\n",
    "from matplotlib import pyplot as plt\n",
    "from sklearn.linear_model import LogisticRegression\n",
    "lr = LogisticRegression(class_weight = 'balanced', solver='lbfgs', max_iter=100, multi_class='auto')\n",
    "lr.fit(X,y)"
   ]
  },
  {
   "cell_type": "code",
   "execution_count": 61,
   "metadata": {},
   "outputs": [],
   "source": [
    "X_test=cars_test[['buying','maint','doors','persons','lug_boot','safety']].astype('int')\n",
    "result= lr.predict(X_test)"
   ]
  },
  {
   "cell_type": "code",
   "execution_count": 62,
   "metadata": {},
   "outputs": [
    {
     "name": "stdout",
     "output_type": "stream",
     "text": [
      "              precision    recall  f1-score   support\n",
      "\n",
      "           1       0.81      0.93      0.87       326\n",
      "           2       0.69      0.66      0.67       125\n",
      "           3       1.00      0.33      0.50        51\n",
      "           4       0.94      0.65      0.77        26\n",
      "\n",
      "    accuracy                           0.80       528\n",
      "   macro avg       0.86      0.64      0.70       528\n",
      "weighted avg       0.81      0.80      0.78       528\n",
      "\n"
     ]
    }
   ],
   "source": [
    "from sklearn.metrics import classification_report\n",
    "y_test=cars_test['class'].astype('int')\n",
    "#print(100.*np.mean(result==y_test))\n",
    "print(classification_report(result, y_test))"
   ]
  },
  {
   "cell_type": "code",
   "execution_count": 64,
   "metadata": {},
   "outputs": [
    {
     "data": {
      "image/png": "[encoded data removed]",
      "text/plain": [
       "<Figure size 432x288 with 1 Axes>"
      ]
     },
     "metadata": {
      "needs_background": "light"
     },
     "output_type": "display_data"
    }
   ],
   "source": [
    "import matplotlib.pyplot as plt\n",
    "# %matplotlib inline\n",
    "pd.crosstab(result,y_test).plot(kind='bar')\n",
    "plt.title('Prediction of classes')\n",
    "plt.xlabel('className')\n",
    "plt.ylabel('Frequency')\n",
    "plt.savefig('predict_jpb')"
   ]
  },
  {
   "cell_type": "markdown",
   "metadata": {},
   "source": []
  }
 ],
 "metadata": {
  "kernelspec": {
   "display_name": "Python 3",
   "language": "python",
   "name": "python3"
  },
  "language_info": {
   "codemirror_mode": {
    "name": "ipython",
    "version": 3
   },
   "file_extension": ".py",
   "mimetype": "text/x-python",
   "name": "python",
   "nbconvert_exporter": "python",
   "pygments_lexer": "ipython3",
   "version": "3.7.3"
  }
 },
 "nbformat": 4,
 "nbformat_minor": 2
}
